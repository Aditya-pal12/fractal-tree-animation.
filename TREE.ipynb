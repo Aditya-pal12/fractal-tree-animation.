{
 "cells": [
  {
   "cell_type": "code",
   "execution_count": null,
   "id": "b4c679e8-9d3c-4de5-8804-a27f0ef04460",
   "metadata": {},
   "outputs": [
    {
     "name": "stderr",
     "output_type": "stream",
     "text": [
      "C:\\Users\\palad\\AppData\\Roaming\\Python\\Python313\\site-packages\\pygame\\pkgdata.py:25: UserWarning: pkg_resources is deprecated as an API. See https://setuptools.pypa.io/en/latest/pkg_resources.html. The pkg_resources package is slated for removal as early as 2025-11-30. Refrain from using this package or pin to Setuptools<81.\n",
      "  from pkg_resources import resource_stream, resource_exists\n"
     ]
    },
    {
     "name": "stdout",
     "output_type": "stream",
     "text": [
      "pygame 2.6.1 (SDL 2.28.4, Python 3.13.5)\n",
      "Hello from the pygame community. https://www.pygame.org/contribute.html\n"
     ]
    }
   ],
   "source": [
    "import pygame\n",
    "import math\n",
    "import sys\n",
    "\n",
    "\n",
    "pygame.init()\n",
    "\n",
    "\n",
    "WIDTH, HEIGHT = 1200, 700\n",
    "screen = pygame.display.set_mode((WIDTH, HEIGHT))\n",
    "pygame.display.set_caption(\"Fractal Tree Animation\")\n",
    "\n",
    "\n",
    "BROWN = (141, 89, 36)\n",
    "COLORS = [(114, 203, 219), (85, 19, 78), (160, 89, 107),\n",
    "          (254, 195, 67), (239, 115, 81)]\n",
    "\n",
    "\n",
    "iterations = 1\n",
    "param = 0\n",
    "mouse_x, mouse_y = 10, 10\n",
    "\n",
    "\n",
    "def get_dir(pointA, pointB):\n",
    "    \"\"\"Get angle between two points\"\"\"\n",
    "    return -math.atan2(pointB[0] - pointA[0], pointB[1] - pointA[1]) + math.pi / 2\n",
    "\n",
    "\n",
    "def draw_line(pointA, pointB, size):\n",
    "    \"\"\"Draw a branch line\"\"\"\n",
    "    pygame.draw.line(screen, BROWN, pointA, pointB, int(size))\n",
    "\n",
    "\n",
    "def iterate(startPoint, deg, iteration, angleL, angleR, color_id=0):\n",
    "    \"\"\"Recursive tree drawing\"\"\"\n",
    "    length = (iterations / iteration) * 15\n",
    "    size = length / 30\n",
    "    x, y = startPoint\n",
    "\n",
    "    lineEnding = (x + length * math.cos(deg + angleL),\n",
    "                  y + length * math.sin(deg + angleL))\n",
    "    lineEnding2 = (x + length * math.cos(deg - angleR),\n",
    "                   y + length * math.sin(deg - angleR))\n",
    "\n",
    "    draw_line(startPoint, lineEnding, size)\n",
    "    draw_line(startPoint, lineEnding2, size)\n",
    "\n",
    "    if iteration > iterations:\n",
    "        pygame.draw.circle(screen, COLORS[color_id % len(COLORS)],\n",
    "                           (int(lineEnding[0]), int(lineEnding[1])), 5)\n",
    "        pygame.draw.circle(screen, COLORS[(color_id+1) % len(COLORS)],\n",
    "                           (int(lineEnding2[0]), int(lineEnding2[1])), 3)\n",
    "        return\n",
    "\n",
    "    iterate(lineEnding, deg + angleL, iteration + 1, angleL, angleR, color_id + 1)\n",
    "    iterate(lineEnding2, deg - angleR, iteration + 1, angleL, angleR, color_id + 1)\n",
    "\n",
    "\n",
    "\n",
    "clock = pygame.time.Clock()\n",
    "running = True\n",
    "while running:\n",
    "    screen.fill((255, 255, 255)) \n",
    "    param += 1\n",
    "\n",
    "    for event in pygame.event.get():\n",
    "        if event.type == pygame.QUIT:\n",
    "            running = False\n",
    "        elif event.type == pygame.MOUSEMOTION:\n",
    "            mouse_x, mouse_y = event.pos\n",
    "\n",
    "    if iterations < 7:\n",
    "        iterations += 0.05\n",
    "\n",
    "    angleR = get_dir((0, math.sin(param / 20) * 8), (abs(mouse_x - WIDTH // 2), mouse_y - HEIGHT // 2))\n",
    "    angleL = get_dir((0, math.sin(param / 10) * 10), (abs(mouse_x - WIDTH // 2), mouse_y - HEIGHT // 2))\n",
    "\n",
    "   \n",
    "    start = (WIDTH // 2, HEIGHT // 2 + 100)\n",
    "    end = (WIDTH // 2, HEIGHT // 2 - 50)\n",
    "    draw_line(start, end, 4)\n",
    "\n",
    "    iterate(end, -math.pi / 2, 1, angleL, angleR)\n",
    "\n",
    "    pygame.display.flip()\n",
    "    clock.tick(30)\n",
    "\n",
    "pygame.quit()\n",
    "sys.exit()\n"
   ]
  },
  {
   "cell_type": "code",
   "execution_count": null,
   "id": "fcb3ce79-60a7-47c5-8a6b-5ee33ce3d7d3",
   "metadata": {},
   "outputs": [],
   "source": []
  }
 ],
 "metadata": {
  "kernelspec": {
   "display_name": "Python 3 (ipykernel)",
   "language": "python",
   "name": "python3"
  },
  "language_info": {
   "codemirror_mode": {
    "name": "ipython",
    "version": 3
   },
   "file_extension": ".py",
   "mimetype": "text/x-python",
   "name": "python",
   "nbconvert_exporter": "python",
   "pygments_lexer": "ipython3",
   "version": "3.13.5"
  }
 },
 "nbformat": 4,
 "nbformat_minor": 5
}
